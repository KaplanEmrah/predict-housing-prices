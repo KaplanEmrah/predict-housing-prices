{
 "cells": [
  {
   "cell_type": "markdown",
   "metadata": {},
   "source": [
    "\n",
    "This is a footnote example, without call-back.<sup>[a](#fn_a)</sup>\n",
    "\n",
    "<a name=\"fn_a\">a</a>: This is footnote a.\n",
    "\n",
    "This is a footnote example, with call-back.<sup id=\"fn_br\">[b](#fn_b)</sup>\n",
    "\n",
    "<a name=\"fn_b\">b</a>: This is footnote b. [↩](#fn_br)"
   ]
  },
  {
   "cell_type": "code",
   "execution_count": null,
   "metadata": {
    "collapsed": true
   },
   "outputs": [],
   "source": []
  }
 ],
 "metadata": {
  "kernelspec": {
   "display_name": "Python 3",
   "language": "python",
   "name": "python3"
  },
  "language_info": {
   "codemirror_mode": {
    "name": "ipython",
    "version": 3
   },
   "file_extension": ".py",
   "mimetype": "text/x-python",
   "name": "python",
   "nbconvert_exporter": "python",
   "pygments_lexer": "ipython3",
   "version": "3.4.3"
  }
 },
 "nbformat": 4,
 "nbformat_minor": 2
}
